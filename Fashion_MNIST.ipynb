{
  "cells": [
    {
      "cell_type": "markdown",
      "metadata": {
        "id": "zkap8K_DQa48"
      },
      "source": [
        "### Approach to Fashion MNIST Dataset\n",
        "1. Load the data and load the libraries\n",
        "2. Visualize the Data\n",
        "3. Separate the images and labels\n",
        "4. Train and Test Split\n",
        "5. Create a Sequential Model\n",
        "6. Combination of Dense Layers and Dropout\n",
        "7. Compile the model\n",
        "8. Fit the model\n",
        "9. Evaluate the model\n",
        "10. Learn more about Convolutional Neural Networks"
      ]
    },
    {
      "cell_type": "markdown",
      "metadata": {
        "id": "3oH87w_6RQtF"
      },
      "source": [
        "Import the libraries and the data"
      ]
    },
    {
      "cell_type": "code",
      "execution_count": null,
      "metadata": {
        "id": "Yk_n-Xy6RQXQ"
      },
      "outputs": [],
      "source": [
        "import pandas as pd\n",
        "import numpy as np\n",
        "import matplotlib.pyplot as plt\n",
        "from tensorflow.keras.models import Sequential\n",
        "from tensorflow.keras.layers import Dense, Dropout\n",
        "from tensorflow.keras.utils import to_categorical"
      ]
    },
    {
      "cell_type": "markdown",
      "metadata": {
        "id": "__5yFhSMR2LW"
      },
      "source": [
        "Import the data"
      ]
    },
    {
      "cell_type": "code",
      "execution_count": null,
      "metadata": {
        "colab": {
          "base_uri": "https://localhost:8080/"
        },
        "id": "nRlhLzNOR0am",
        "outputId": "79a309e4-e616-41fb-b2d1-4cb9a3f22e29"
      },
      "outputs": [
        {
          "output_type": "stream",
          "name": "stdout",
          "text": [
            "Archive:  /content/archive.zip\n",
            "  inflating: fashion-mnist_test.csv  \n",
            "  inflating: fashion-mnist_train.csv  \n",
            "  inflating: t10k-images-idx3-ubyte  \n",
            "  inflating: t10k-labels-idx1-ubyte  \n",
            "  inflating: train-images-idx3-ubyte  \n",
            "  inflating: train-labels-idx1-ubyte  \n"
          ]
        }
      ],
      "source": [
        "!unzip '/content/archive.zip'"
      ]
    },
    {
      "cell_type": "code",
      "execution_count": null,
      "metadata": {
        "id": "2CMTEHSUONnL"
      },
      "outputs": [],
      "source": [
        "train_df = pd.read_csv('/content/fashion-mnist_train.csv')\n",
        "test_df = pd.read_csv('/content/fashion-mnist_test.csv')"
      ]
    },
    {
      "cell_type": "code",
      "execution_count": null,
      "metadata": {
        "colab": {
          "base_uri": "https://localhost:8080/"
        },
        "id": "7E8VMvpqT-lm",
        "outputId": "ae0ec241-4778-43f4-e5f1-30516ea19e8a"
      },
      "outputs": [
        {
          "output_type": "stream",
          "name": "stdout",
          "text": [
            "(60000, 785)\n",
            "(10000, 785)\n"
          ]
        }
      ],
      "source": [
        "print(train_df.shape)\n",
        "print(test_df.shape)"
      ]
    },
    {
      "cell_type": "code",
      "execution_count": null,
      "metadata": {
        "colab": {
          "base_uri": "https://localhost:8080/",
          "height": 452
        },
        "id": "-FdmLGwMUPwV",
        "outputId": "066f669a-09cb-491a-b5be-d969a6cc3ea8"
      },
      "outputs": [
        {
          "output_type": "display_data",
          "data": {
            "text/plain": [
              "<Figure size 640x480 with 1 Axes>"
            ],
            "image/png": "[encoded data removed]"
          },
          "metadata": {}
        }
      ],
      "source": [
        "# Extract pixel values for the first image\n",
        "first_image_pixels = train_df.iloc[40, 1:].values  # Exclude the label column (first column)\n",
        "\n",
        "# Reshape the pixel values into a 28x28 image\n",
        "image = first_image_pixels.reshape(28, 28)\n",
        "\n",
        "# Display the image\n",
        "plt.imshow(image, cmap='gray')\n",
        "plt.title('First Image from Train Data')\n",
        "plt.show()\n",
        "\n",
        "# You can also print the pixel values if needed:\n",
        "# print(first_image_pixels)"
      ]
    },
    {
      "cell_type": "markdown",
      "metadata": {
        "id": "VGAlaffxVgC1"
      },
      "source": [
        "Create X (Images) and Y (Labels)"
      ]
    },
    {
      "cell_type": "code",
      "execution_count": null,
      "metadata": {
        "id": "KQ0FzC8jVi3k"
      },
      "outputs": [],
      "source": [
        "images = train_df.drop('label', axis=1).values\n",
        "labels = train_df['label'].values"
      ]
    },
    {
      "cell_type": "code",
      "execution_count": null,
      "metadata": {
        "colab": {
          "base_uri": "https://localhost:8080/"
        },
        "id": "0BsbNDveVo98",
        "outputId": "5e0dbc5a-c67c-4101-eec4-fc1d959abd84"
      },
      "outputs": [
        {
          "output_type": "execute_result",
          "data": {
            "text/plain": [
              "array([[0, 0, 0, ..., 0, 0, 0],\n",
              "       [0, 0, 0, ..., 0, 0, 0],\n",
              "       [0, 0, 0, ..., 0, 0, 0],\n",
              "       ...,\n",
              "       [0, 0, 0, ..., 0, 0, 0],\n",
              "       [0, 0, 0, ..., 0, 0, 0],\n",
              "       [0, 0, 0, ..., 0, 0, 0]])"
            ]
          },
          "metadata": {},
          "execution_count": 7
        }
      ],
      "source": [
        "images"
      ]
    },
    {
      "cell_type": "code",
      "execution_count": null,
      "metadata": {
        "colab": {
          "base_uri": "https://localhost:8080/"
        },
        "id": "PwqNVagMVqTd",
        "outputId": "244a9b7a-1546-4f6c-97e5-d66de26dd774"
      },
      "outputs": [
        {
          "output_type": "execute_result",
          "data": {
            "text/plain": [
              "array([2, 9, 6, ..., 8, 8, 7])"
            ]
          },
          "metadata": {},
          "execution_count": 8
        }
      ],
      "source": [
        "labels"
      ]
    },
    {
      "cell_type": "markdown",
      "metadata": {
        "id": "HIung0uVWFWe"
      },
      "source": [
        "Train and Test split of the data"
      ]
    },
    {
      "cell_type": "code",
      "execution_count": null,
      "metadata": {
        "id": "ZwtBl4igWHdc"
      },
      "outputs": [],
      "source": [
        "from sklearn.model_selection import train_test_split\n",
        "x_train, x_test, y_train, y_test = train_test_split(images, labels, test_size = 0.2, random_state = 42)"
      ]
    },
    {
      "cell_type": "code",
      "execution_count": null,
      "metadata": {
        "colab": {
          "base_uri": "https://localhost:8080/"
        },
        "id": "DAZY3gvZWZUF",
        "outputId": "4eb8bdc9-13c6-42bb-8535-f9873dfd0996"
      },
      "outputs": [
        {
          "output_type": "stream",
          "name": "stdout",
          "text": [
            "(48000, 784)\n",
            "(12000, 784)\n",
            "(48000,)\n",
            "(12000,)\n"
          ]
        }
      ],
      "source": [
        "print(x_train.shape)\n",
        "print(x_test.shape)\n",
        "print(y_train.shape)\n",
        "print(y_test.shape)"
      ]
    },
    {
      "cell_type": "markdown",
      "metadata": {
        "id": "dBo-zGnJW6QF"
      },
      "source": [
        "Create a Sequential Model"
      ]
    },
    {
      "cell_type": "code",
      "execution_count": null,
      "metadata": {
        "colab": {
          "base_uri": "https://localhost:8080/"
        },
        "id": "AAzr7Jm-W82m",
        "outputId": "374bf7a3-0077-46ec-9a28-cfd15904cefb"
      },
      "outputs": [
        {
          "output_type": "stream",
          "name": "stderr",
          "text": [
            "/usr/local/lib/python3.11/dist-packages/keras/src/layers/core/dense.py:87: UserWarning: Do not pass an `input_shape`/`input_dim` argument to a layer. When using Sequential models, prefer using an `Input(shape)` object as the first layer in the model instead.\n",
            "  super().__init__(activity_regularizer=activity_regularizer, **kwargs)\n"
          ]
        }
      ],
      "source": [
        "model = Sequential()\n",
        "#Input Layer\n",
        "model.add(Dense(256, activation='relu', input_shape=(784,)))\n",
        "#Dropout Layer\n",
        "model.add(Dropout(0.2))\n",
        "#Hidden Layer 1\n",
        "model.add(Dense(256, activation='relu'))\n",
        "#Dropout Layer\n",
        "model.add(Dropout(0.2))\n",
        "#Hidden Layer 2\n",
        "model.add(Dense(256, activation='relu'))\n",
        "#Dropout Layer\n",
        "model.add(Dropout(0.2))\n",
        "#ouptut Layer\n",
        "model.add(Dense(10, activation='softmax'))"
      ]
    },
    {
      "cell_type": "markdown",
      "metadata": {
        "id": "5229vBg2X4I1"
      },
      "source": [
        "Compile"
      ]
    },
    {
      "cell_type": "code",
      "execution_count": null,
      "metadata": {
        "id": "bgl58v7HX5W9"
      },
      "outputs": [],
      "source": [
        "model.compile(optimizer = 'adam', loss = 'categorical_crossentropy', metrics = ['accuracy'])"
      ]
    },
    {
      "cell_type": "markdown",
      "metadata": {
        "id": "KsYkbrXnYe_M"
      },
      "source": [
        "Fit the model"
      ]
    },
    {
      "cell_type": "code",
      "execution_count": null,
      "metadata": {
        "colab": {
          "base_uri": "https://localhost:8080/"
        },
        "id": "_ns-TV2gYgDN",
        "outputId": "dcd70cf1-a5cd-4529-e543-f540c5e7c092"
      },
      "outputs": [
        {
          "output_type": "stream",
          "name": "stdout",
          "text": [
            "Epoch 1/50\n",
            "\u001b[1m1200/1200\u001b[0m \u001b[32m━━━━━━━━━━━━━━━━━━━━\u001b[0m\u001b[37m\u001b[0m \u001b[1m13s\u001b[0m 9ms/step - accuracy: 0.5518 - loss: 8.1302 - val_accuracy: 0.7054 - val_loss: 0.7460\n",
            "Epoch 2/50\n",
            "\u001b[1m1200/1200\u001b[0m \u001b[32m━━━━━━━━━━━━━━━━━━━━\u001b[0m\u001b[37m\u001b[0m \u001b[1m21s\u001b[0m 9ms/step - accuracy: 0.6821 - loss: 0.8483 - val_accuracy: 0.7541 - val_loss: 0.6258\n",
            "Epoch 3/50\n",
            "\u001b[1m1200/1200\u001b[0m \u001b[32m━━━━━━━━━━━━━━━━━━━━\u001b[0m\u001b[37m\u001b[0m \u001b[1m20s\u001b[0m 9ms/step - accuracy: 0.7289 - loss: 0.7266 - val_accuracy: 0.7848 - val_loss: 0.5989\n",
            "Epoch 4/50\n",
            "\u001b[1m1200/1200\u001b[0m \u001b[32m━━━━━━━━━━━━━━━━━━━━\u001b[0m\u001b[37m\u001b[0m \u001b[1m20s\u001b[0m 8ms/step - accuracy: 0.7452 - loss: 0.6969 - val_accuracy: 0.7593 - val_loss: 0.6148\n",
            "Epoch 5/50\n",
            "\u001b[1m1200/1200\u001b[0m \u001b[32m━━━━━━━━━━━━━━━━━━━━\u001b[0m\u001b[37m\u001b[0m \u001b[1m10s\u001b[0m 8ms/step - accuracy: 0.7461 - loss: 0.6926 - val_accuracy: 0.8140 - val_loss: 0.5526\n",
            "Epoch 6/50\n",
            "\u001b[1m1200/1200\u001b[0m \u001b[32m━━━━━━━━━━━━━━━━━━━━\u001b[0m\u001b[37m\u001b[0m \u001b[1m12s\u001b[0m 9ms/step - accuracy: 0.7656 - loss: 0.6624 - val_accuracy: 0.8144 - val_loss: 0.5249\n",
            "Epoch 7/50\n",
            "\u001b[1m1200/1200\u001b[0m \u001b[32m━━━━━━━━━━━━━━━━━━━━\u001b[0m\u001b[37m\u001b[0m \u001b[1m10s\u001b[0m 9ms/step - accuracy: 0.7718 - loss: 0.6141 - val_accuracy: 0.8104 - val_loss: 0.5293\n",
            "Epoch 8/50\n",
            "\u001b[1m1200/1200\u001b[0m \u001b[32m━━━━━━━━━━━━━━━━━━━━\u001b[0m\u001b[37m\u001b[0m \u001b[1m20s\u001b[0m 9ms/step - accuracy: 0.7658 - loss: 0.6333 - val_accuracy: 0.8033 - val_loss: 0.5546\n",
            "Epoch 9/50\n",
            "\u001b[1m1200/1200\u001b[0m \u001b[32m━━━━━━━━━━━━━━━━━━━━\u001b[0m\u001b[37m\u001b[0m \u001b[1m9s\u001b[0m 8ms/step - accuracy: 0.7762 - loss: 0.6160 - val_accuracy: 0.8161 - val_loss: 0.5113\n",
            "Epoch 10/50\n",
            "\u001b[1m1200/1200\u001b[0m \u001b[32m━━━━━━━━━━━━━━━━━━━━\u001b[0m\u001b[37m\u001b[0m \u001b[1m10s\u001b[0m 7ms/step - accuracy: 0.7811 - loss: 0.6165 - val_accuracy: 0.8255 - val_loss: 0.5106\n",
            "Epoch 11/50\n",
            "\u001b[1m1200/1200\u001b[0m \u001b[32m━━━━━━━━━━━━━━━━━━━━\u001b[0m\u001b[37m\u001b[0m \u001b[1m10s\u001b[0m 8ms/step - accuracy: 0.7869 - loss: 0.6047 - val_accuracy: 0.8145 - val_loss: 0.5158\n",
            "Epoch 12/50\n",
            "\u001b[1m1200/1200\u001b[0m \u001b[32m━━━━━━━━━━━━━━━━━━━━\u001b[0m\u001b[37m\u001b[0m \u001b[1m12s\u001b[0m 10ms/step - accuracy: 0.7864 - loss: 0.5981 - val_accuracy: 0.7844 - val_loss: 0.5676\n",
            "Epoch 13/50\n",
            "\u001b[1m1200/1200\u001b[0m \u001b[32m━━━━━━━━━━━━━━━━━━━━\u001b[0m\u001b[37m\u001b[0m \u001b[1m11s\u001b[0m 9ms/step - accuracy: 0.7631 - loss: 0.6292 - val_accuracy: 0.7918 - val_loss: 0.5614\n",
            "Epoch 14/50\n",
            "\u001b[1m1200/1200\u001b[0m \u001b[32m━━━━━━━━━━━━━━━━━━━━\u001b[0m\u001b[37m\u001b[0m \u001b[1m10s\u001b[0m 8ms/step - accuracy: 0.7742 - loss: 0.6079 - val_accuracy: 0.7939 - val_loss: 0.5539\n",
            "Epoch 15/50\n",
            "\u001b[1m1200/1200\u001b[0m \u001b[32m━━━━━━━━━━━━━━━━━━━━\u001b[0m\u001b[37m\u001b[0m \u001b[1m10s\u001b[0m 8ms/step - accuracy: 0.7790 - loss: 0.5974 - val_accuracy: 0.8280 - val_loss: 0.5256\n",
            "Epoch 16/50\n",
            "\u001b[1m1200/1200\u001b[0m \u001b[32m━━━━━━━━━━━━━━━━━━━━\u001b[0m\u001b[37m\u001b[0m \u001b[1m11s\u001b[0m 9ms/step - accuracy: 0.7939 - loss: 0.5929 - val_accuracy: 0.8334 - val_loss: 0.4978\n",
            "Epoch 17/50\n",
            "\u001b[1m1200/1200\u001b[0m \u001b[32m━━━━━━━━━━━━━━━━━━━━\u001b[0m\u001b[37m\u001b[0m \u001b[1m20s\u001b[0m 9ms/step - accuracy: 0.8003 - loss: 0.5716 - val_accuracy: 0.8274 - val_loss: 0.5159\n",
            "Epoch 18/50\n",
            "\u001b[1m1200/1200\u001b[0m \u001b[32m━━━━━━━━━━━━━━━━━━━━\u001b[0m\u001b[37m\u001b[0m \u001b[1m20s\u001b[0m 8ms/step - accuracy: 0.7741 - loss: 0.6202 - val_accuracy: 0.7658 - val_loss: 0.5840\n",
            "Epoch 19/50\n",
            "\u001b[1m1200/1200\u001b[0m \u001b[32m━━━━━━━━━━━━━━━━━━━━\u001b[0m\u001b[37m\u001b[0m \u001b[1m11s\u001b[0m 9ms/step - accuracy: 0.7835 - loss: 0.5859 - val_accuracy: 0.8031 - val_loss: 0.5198\n",
            "Epoch 20/50\n",
            "\u001b[1m1200/1200\u001b[0m \u001b[32m━━━━━━━━━━━━━━━━━━━━\u001b[0m\u001b[37m\u001b[0m \u001b[1m11s\u001b[0m 9ms/step - accuracy: 0.7712 - loss: 0.6000 - val_accuracy: 0.7871 - val_loss: 0.5540\n",
            "Epoch 21/50\n",
            "\u001b[1m1200/1200\u001b[0m \u001b[32m━━━━━━━━━━━━━━━━━━━━\u001b[0m\u001b[37m\u001b[0m \u001b[1m21s\u001b[0m 9ms/step - accuracy: 0.7733 - loss: 0.5953 - val_accuracy: 0.7848 - val_loss: 0.5643\n",
            "Epoch 22/50\n",
            "\u001b[1m1200/1200\u001b[0m \u001b[32m━━━━━━━━━━━━━━━━━━━━\u001b[0m\u001b[37m\u001b[0m \u001b[1m18s\u001b[0m 8ms/step - accuracy: 0.7662 - loss: 0.5928 - val_accuracy: 0.7970 - val_loss: 0.5173\n",
            "Epoch 23/50\n",
            "\u001b[1m1200/1200\u001b[0m \u001b[32m━━━━━━━━━━━━━━━━━━━━\u001b[0m\u001b[37m\u001b[0m \u001b[1m11s\u001b[0m 9ms/step - accuracy: 0.7692 - loss: 0.5661 - val_accuracy: 0.7969 - val_loss: 0.5112\n",
            "Epoch 24/50\n",
            "\u001b[1m1200/1200\u001b[0m \u001b[32m━━━━━━━━━━━━━━━━━━━━\u001b[0m\u001b[37m\u001b[0m \u001b[1m11s\u001b[0m 9ms/step - accuracy: 0.7768 - loss: 0.5765 - val_accuracy: 0.7939 - val_loss: 0.5524\n",
            "Epoch 25/50\n",
            "\u001b[1m1200/1200\u001b[0m \u001b[32m━━━━━━━━━━━━━━━━━━━━\u001b[0m\u001b[37m\u001b[0m \u001b[1m11s\u001b[0m 9ms/step - accuracy: 0.7518 - loss: 0.6079 - val_accuracy: 0.8092 - val_loss: 0.5207\n",
            "Epoch 26/50\n",
            "\u001b[1m1200/1200\u001b[0m \u001b[32m━━━━━━━━━━━━━━━━━━━━\u001b[0m\u001b[37m\u001b[0m \u001b[1m19s\u001b[0m 8ms/step - accuracy: 0.7782 - loss: 0.5725 - val_accuracy: 0.7936 - val_loss: 0.5273\n",
            "Epoch 27/50\n",
            "\u001b[1m1200/1200\u001b[0m \u001b[32m━━━━━━━━━━━━━━━━━━━━\u001b[0m\u001b[37m\u001b[0m \u001b[1m11s\u001b[0m 9ms/step - accuracy: 0.7807 - loss: 0.5802 - val_accuracy: 0.8010 - val_loss: 0.5193\n",
            "Epoch 28/50\n",
            "\u001b[1m1200/1200\u001b[0m \u001b[32m━━━━━━━━━━━━━━━━━━━━\u001b[0m\u001b[37m\u001b[0m \u001b[1m11s\u001b[0m 9ms/step - accuracy: 0.7667 - loss: 0.5796 - val_accuracy: 0.8003 - val_loss: 0.5194\n",
            "Epoch 29/50\n",
            "\u001b[1m1200/1200\u001b[0m \u001b[32m━━━━━━━━━━━━━━━━━━━━\u001b[0m\u001b[37m\u001b[0m \u001b[1m21s\u001b[0m 9ms/step - accuracy: 0.7733 - loss: 0.5944 - val_accuracy: 0.8129 - val_loss: 0.5281\n",
            "Epoch 30/50\n",
            "\u001b[1m1200/1200\u001b[0m \u001b[32m━━━━━━━━━━━━━━━━━━━━\u001b[0m\u001b[37m\u001b[0m \u001b[1m10s\u001b[0m 9ms/step - accuracy: 0.7808 - loss: 0.5865 - val_accuracy: 0.8000 - val_loss: 0.5441\n",
            "Epoch 31/50\n",
            "\u001b[1m1200/1200\u001b[0m \u001b[32m━━━━━━━━━━━━━━━━━━━━\u001b[0m\u001b[37m\u001b[0m \u001b[1m17s\u001b[0m 14ms/step - accuracy: 0.7884 - loss: 0.5628 - val_accuracy: 0.7899 - val_loss: 0.5618\n",
            "Epoch 32/50\n",
            "\u001b[1m1200/1200\u001b[0m \u001b[32m━━━━━━━━━━━━━━━━━━━━\u001b[0m\u001b[37m\u001b[0m \u001b[1m10s\u001b[0m 8ms/step - accuracy: 0.7757 - loss: 0.5627 - val_accuracy: 0.8051 - val_loss: 0.5206\n",
            "Epoch 33/50\n",
            "\u001b[1m1200/1200\u001b[0m \u001b[32m━━━━━━━━━━━━━━━━━━━━\u001b[0m\u001b[37m\u001b[0m \u001b[1m11s\u001b[0m 9ms/step - accuracy: 0.7747 - loss: 0.5894 - val_accuracy: 0.8050 - val_loss: 0.5336\n",
            "Epoch 34/50\n",
            "\u001b[1m1200/1200\u001b[0m \u001b[32m━━━━━━━━━━━━━━━━━━━━\u001b[0m\u001b[37m\u001b[0m \u001b[1m21s\u001b[0m 9ms/step - accuracy: 0.7631 - loss: 0.6249 - val_accuracy: 0.8131 - val_loss: 0.5263\n",
            "Epoch 35/50\n",
            "\u001b[1m1200/1200\u001b[0m \u001b[32m━━━━━━━━━━━━━━━━━━━━\u001b[0m\u001b[37m\u001b[0m \u001b[1m11s\u001b[0m 9ms/step - accuracy: 0.7939 - loss: 0.5780 - val_accuracy: 0.8011 - val_loss: 0.5341\n",
            "Epoch 36/50\n",
            "\u001b[1m1200/1200\u001b[0m \u001b[32m━━━━━━━━━━━━━━━━━━━━\u001b[0m\u001b[37m\u001b[0m \u001b[1m11s\u001b[0m 9ms/step - accuracy: 0.7889 - loss: 0.5692 - val_accuracy: 0.8284 - val_loss: 0.4977\n",
            "Epoch 37/50\n",
            "\u001b[1m1200/1200\u001b[0m \u001b[32m━━━━━━━━━━━━━━━━━━━━\u001b[0m\u001b[37m\u001b[0m \u001b[1m10s\u001b[0m 9ms/step - accuracy: 0.7945 - loss: 0.5434 - val_accuracy: 0.8133 - val_loss: 0.5195\n",
            "Epoch 38/50\n",
            "\u001b[1m1200/1200\u001b[0m \u001b[32m━━━━━━━━━━━━━━━━━━━━\u001b[0m\u001b[37m\u001b[0m \u001b[1m21s\u001b[0m 9ms/step - accuracy: 0.7795 - loss: 0.5814 - val_accuracy: 0.8053 - val_loss: 0.5183\n",
            "Epoch 39/50\n",
            "\u001b[1m1200/1200\u001b[0m \u001b[32m━━━━━━━━━━━━━━━━━━━━\u001b[0m\u001b[37m\u001b[0m \u001b[1m22s\u001b[0m 10ms/step - accuracy: 0.7890 - loss: 0.5365 - val_accuracy: 0.7889 - val_loss: 0.5843\n",
            "Epoch 40/50\n",
            "\u001b[1m1200/1200\u001b[0m \u001b[32m━━━━━━━━━━━━━━━━━━━━\u001b[0m\u001b[37m\u001b[0m \u001b[1m14s\u001b[0m 12ms/step - accuracy: 0.7802 - loss: 0.5627 - val_accuracy: 0.8042 - val_loss: 0.5275\n",
            "Epoch 41/50\n",
            "\u001b[1m1200/1200\u001b[0m \u001b[32m━━━━━━━━━━━━━━━━━━━━\u001b[0m\u001b[37m\u001b[0m \u001b[1m10s\u001b[0m 9ms/step - accuracy: 0.7859 - loss: 0.5561 - val_accuracy: 0.7862 - val_loss: 0.5602\n",
            "Epoch 42/50\n",
            "\u001b[1m1200/1200\u001b[0m \u001b[32m━━━━━━━━━━━━━━━━━━━━\u001b[0m\u001b[37m\u001b[0m \u001b[1m20s\u001b[0m 9ms/step - accuracy: 0.7813 - loss: 0.5623 - val_accuracy: 0.8193 - val_loss: 0.5131\n",
            "Epoch 43/50\n",
            "\u001b[1m1200/1200\u001b[0m \u001b[32m━━━━━━━━━━━━━━━━━━━━\u001b[0m\u001b[37m\u001b[0m \u001b[1m11s\u001b[0m 9ms/step - accuracy: 0.7870 - loss: 0.5503 - val_accuracy: 0.8258 - val_loss: 0.5479\n",
            "Epoch 44/50\n",
            "\u001b[1m1200/1200\u001b[0m \u001b[32m━━━━━━━━━━━━━━━━━━━━\u001b[0m\u001b[37m\u001b[0m \u001b[1m21s\u001b[0m 9ms/step - accuracy: 0.7913 - loss: 0.5427 - val_accuracy: 0.8115 - val_loss: 0.5044\n",
            "Epoch 45/50\n",
            "\u001b[1m1200/1200\u001b[0m \u001b[32m━━━━━━━━━━━━━━━━━━━━\u001b[0m\u001b[37m\u001b[0m \u001b[1m10s\u001b[0m 9ms/step - accuracy: 0.7991 - loss: 0.5439 - val_accuracy: 0.8125 - val_loss: 0.5176\n",
            "Epoch 46/50\n",
            "\u001b[1m1200/1200\u001b[0m \u001b[32m━━━━━━━━━━━━━━━━━━━━\u001b[0m\u001b[37m\u001b[0m \u001b[1m21s\u001b[0m 9ms/step - accuracy: 0.7990 - loss: 0.5497 - val_accuracy: 0.8140 - val_loss: 0.5220\n",
            "Epoch 47/50\n",
            "\u001b[1m1200/1200\u001b[0m \u001b[32m━━━━━━━━━━━━━━━━━━━━\u001b[0m\u001b[37m\u001b[0m \u001b[1m11s\u001b[0m 9ms/step - accuracy: 0.7938 - loss: 0.5352 - val_accuracy: 0.7910 - val_loss: 0.5843\n",
            "Epoch 48/50\n",
            "\u001b[1m1200/1200\u001b[0m \u001b[32m━━━━━━━━━━━━━━━━━━━━\u001b[0m\u001b[37m\u001b[0m \u001b[1m22s\u001b[0m 11ms/step - accuracy: 0.7848 - loss: 0.5788 - val_accuracy: 0.8198 - val_loss: 0.5610\n",
            "Epoch 49/50\n",
            "\u001b[1m1200/1200\u001b[0m \u001b[32m━━━━━━━━━━━━━━━━━━━━\u001b[0m\u001b[37m\u001b[0m \u001b[1m18s\u001b[0m 9ms/step - accuracy: 0.7953 - loss: 0.5678 - val_accuracy: 0.8227 - val_loss: 0.5475\n",
            "Epoch 50/50\n",
            "\u001b[1m1200/1200\u001b[0m \u001b[32m━━━━━━━━━━━━━━━━━━━━\u001b[0m\u001b[37m\u001b[0m \u001b[1m11s\u001b[0m 9ms/step - accuracy: 0.7992 - loss: 0.5586 - val_accuracy: 0.8260 - val_loss: 0.5111\n"
          ]
        }
      ],
      "source": [
        "hist = model.fit(x_train, to_categorical(y_train), epochs = 50, validation_split = 0.2)"
      ]
    },
    {
      "cell_type": "markdown",
      "metadata": {
        "id": "CaXNXFzqcscl"
      },
      "source": [
        "Visualization of the epochs"
      ]
    },
    {
      "cell_type": "code",
      "execution_count": null,
      "metadata": {
        "colab": {
          "base_uri": "https://localhost:8080/",
          "height": 507
        },
        "id": "AcuAL4mWcuWt",
        "outputId": "f31cb6ed-4393-4f99-da98-8072c55fbc5f"
      },
      "outputs": [
        {
          "output_type": "display_data",
          "data": {
            "text/plain": [
              "<Figure size 1000x500 with 2 Axes>"
            ],
            "image/png": "[encoded data removed]"
          },
          "metadata": {}
        }
      ],
      "source": [
        "# Plot the accuracy and loss metrics\n",
        "plt.figure(figsize=(10, 5))\n",
        "plt.subplot(1, 2, 1)\n",
        "plt.plot(hist.history['accuracy'], label='Train Accuracy')\n",
        "plt.plot(hist.history['val_accuracy'], label='Test Accuracy')\n",
        "plt.xlabel('Epochs')\n",
        "plt.ylabel('Accuracy')\n",
        "plt.legend()\n",
        "plt.title('Accuracy')\n",
        "\n",
        "plt.subplot(1, 2, 2)\n",
        "plt.plot(hist.history['loss'], label='Train Loss')\n",
        "plt.plot(hist.history['val_loss'], label='Test Loss')\n",
        "plt.xlabel('Epochs')\n",
        "plt.ylabel('Loss')\n",
        "plt.legend()\n",
        "plt.title('Loss')\n",
        "\n",
        "plt.tight_layout()\n",
        "plt.show()\n"
      ]
    },
    {
      "cell_type": "markdown",
      "metadata": {
        "id": "eNx8E8x2dxlt"
      },
      "source": [
        "Evaluation of the model outputs"
      ]
    },
    {
      "cell_type": "code",
      "execution_count": null,
      "metadata": {
        "id": "5g6GpGkaeA_F"
      },
      "outputs": [],
      "source": [
        "from sklearn.metrics import classification_report, confusion_matrix, accuracy_score\n",
        "def model_eval(actual, predicted):\n",
        "  print(classification_report(actual, predicted))\n",
        "  print(confusion_matrix(actual, predicted))\n",
        "  print(accuracy_score(actual, predicted))"
      ]
    },
    {
      "cell_type": "code",
      "execution_count": null,
      "metadata": {
        "colab": {
          "base_uri": "https://localhost:8080/"
        },
        "id": "4_njNSWqeB3t",
        "outputId": "3058449b-9e56-4751-820a-9ba3968beb43"
      },
      "outputs": [
        {
          "output_type": "stream",
          "name": "stdout",
          "text": [
            "\u001b[1m1500/1500\u001b[0m \u001b[32m━━━━━━━━━━━━━━━━━━━━\u001b[0m\u001b[37m\u001b[0m \u001b[1m3s\u001b[0m 2ms/step\n",
            "\u001b[1m375/375\u001b[0m \u001b[32m━━━━━━━━━━━━━━━━━━━━\u001b[0m\u001b[37m\u001b[0m \u001b[1m2s\u001b[0m 5ms/step\n"
          ]
        }
      ],
      "source": [
        "y_hat_train = np.argmax(model.predict(x_train), axis = 1)\n",
        "y_hat_test = np.argmax(model.predict(x_test), axis = 1)"
      ]
    },
    {
      "cell_type": "markdown",
      "metadata": {
        "id": "MZVTf_ZceIcF"
      },
      "source": [
        "Train Eval"
      ]
    },
    {
      "cell_type": "code",
      "execution_count": null,
      "metadata": {
        "colab": {
          "base_uri": "https://localhost:8080/"
        },
        "id": "SuhYpXAseHFF",
        "outputId": "169e8014-f3ce-4f54-efce-d463916731c0"
      },
      "outputs": [
        {
          "output_type": "stream",
          "name": "stdout",
          "text": [
            "              precision    recall  f1-score   support\n",
            "\n",
            "           0       0.75      0.89      0.81      4768\n",
            "           1       1.00      0.97      0.98      4826\n",
            "           2       0.61      0.84      0.70      4800\n",
            "           3       0.89      0.87      0.88      4758\n",
            "           4       0.60      0.54      0.57      4815\n",
            "           5       0.97      0.98      0.98      4859\n",
            "           6       0.69      0.39      0.50      4757\n",
            "           7       0.96      0.94      0.95      4776\n",
            "           8       0.95      0.98      0.96      4851\n",
            "           9       0.96      0.97      0.96      4790\n",
            "\n",
            "    accuracy                           0.84     48000\n",
            "   macro avg       0.84      0.83      0.83     48000\n",
            "weighted avg       0.84      0.84      0.83     48000\n",
            "\n",
            "[[4243    2   52  125   26    0  269    1   50    0]\n",
            " [  15 4674    4  109   12    0    7    0    5    0]\n",
            " [  60    0 4015   21  511    0  146    0   47    0]\n",
            " [ 165    8   57 4119  298    0   96    0   15    0]\n",
            " [  10    2 1750  140 2578    0  299    0   36    0]\n",
            " [   0    0    1    1    1 4779    0   52    2   23]\n",
            " [1179    1  698  100  838    0 1851    0   90    0]\n",
            " [   0    0    0    0    0  112    0 4483    3  178]\n",
            " [  15    0   23   18   23    2   22   17 4731    0]\n",
            " [   0    0    0    0    1   41    0  122    0 4626]]\n",
            "0.8353958333333333\n"
          ]
        }
      ],
      "source": [
        "model_eval(y_train, y_hat_train)"
      ]
    },
    {
      "cell_type": "code",
      "execution_count": null,
      "metadata": {
        "colab": {
          "base_uri": "https://localhost:8080/"
        },
        "id": "P_5cd7IEeKrl",
        "outputId": "479d68b6-b916-421a-e22e-be36a07fe4e9"
      },
      "outputs": [
        {
          "output_type": "stream",
          "name": "stdout",
          "text": [
            "              precision    recall  f1-score   support\n",
            "\n",
            "           0       0.74      0.88      0.80      1232\n",
            "           1       0.99      0.96      0.97      1174\n",
            "           2       0.61      0.85      0.71      1200\n",
            "           3       0.86      0.86      0.86      1242\n",
            "           4       0.58      0.51      0.55      1185\n",
            "           5       0.94      0.96      0.95      1141\n",
            "           6       0.67      0.37      0.48      1243\n",
            "           7       0.95      0.94      0.94      1224\n",
            "           8       0.93      0.97      0.95      1149\n",
            "           9       0.96      0.95      0.96      1210\n",
            "\n",
            "    accuracy                           0.82     12000\n",
            "   macro avg       0.82      0.83      0.82     12000\n",
            "weighted avg       0.82      0.82      0.82     12000\n",
            "\n",
            "[[1082    1    5   46    8    0   79    0   10    1]\n",
            " [   1 1124    1   40    3    0    5    0    0    0]\n",
            " [   8    0 1020    8  116    0   33    0   15    0]\n",
            " [  47    7   16 1064   81    0   21    0    6    0]\n",
            " [   2    1  441   38  610    0   84    0    9    0]\n",
            " [   0    0    0    2    2 1096    0   20    6   15]\n",
            " [ 316    1  181   30  220    0  464    0   30    1]\n",
            " [   0    0    0    0    0   44    0 1146    1   33]\n",
            " [   5    0    3    4    4    2    9    4 1118    0]\n",
            " [   0    0    0    0    0   20    1   35    1 1153]]\n",
            "0.8230833333333333\n"
          ]
        }
      ],
      "source": [
        "model_eval(y_test, y_hat_test)"
      ]
    }
  ],
  "metadata": {
    "colab": {
      "provenance": []
    },
    "kernelspec": {
      "display_name": "Python 3",
      "name": "python3"
    },
    "language_info": {
      "name": "python"
    }
  },
  "nbformat": 4,
  "nbformat_minor": 0
}